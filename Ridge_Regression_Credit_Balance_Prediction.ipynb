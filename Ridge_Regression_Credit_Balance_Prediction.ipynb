{
 "cells": [
  {
   "cell_type": "code",
   "execution_count": 42,
   "id": "4bd61c86",
   "metadata": {},
   "outputs": [],
   "source": [
    "# SUMMARY:\n",
    "# Analyze credit card data from N = 400 training observations.Fit a model that can predict \n",
    "# credit balance based on 9 features describing an individual. Features include an individual’s \n",
    "# income, credit limit, credit rating, number of credit cards, age, education level, gender, \n",
    "# student status, and marriage status. \n",
    "# DELIVERABLE 1:\n",
    "# A penalized (regularized) least squares fit of a linear model using ridge regression, with\n",
    "#     the model parameters obtained by batch gradient descent. \n",
    "# DELIVERABLE 2:\n",
    "# Find best tuning parameter (λ) using five-fold cross validation, CV (5).\n",
    "# DELIVERABLE 3:\n",
    "# Indicate the value of λ that generated the smallest CV (5) error.\n",
    "# DELIVERABLE 4:\n",
    "# Given the optimal λ, retrain the model on the entire dataset of N = 400\n",
    "#     observations and provide the estimates of the p = 9 best-fit model parameters."
   ]
  },
  {
   "cell_type": "code",
   "execution_count": 43,
   "id": "2ba2625c",
   "metadata": {},
   "outputs": [],
   "source": [
    "import numpy as np\n",
    "import pandas as pd\n",
    "import random\n",
    "random.seed(10)\n",
    "import matplotlib.pyplot as plt\n",
    "import os  # operating package to build directory\n",
    "\n",
    "\n",
    "\n",
    "# setup for multiple outputs from single cell\n",
    "from IPython.core.interactiveshell import InteractiveShell\n",
    "InteractiveShell.ast_node_interactivity = 'all'\n",
    "\n",
    "# silence warnings\n",
    "import warnings\n",
    "warnings.filterwarnings(\"ignore\")"
   ]
  },
  {
   "cell_type": "code",
   "execution_count": 44,
   "id": "8cbaa2d6",
   "metadata": {},
   "outputs": [
    {
     "name": "stdout",
     "output_type": "stream",
     "text": [
      "ORIGINAL CSV DATA:\n",
      "\n",
      "    Income  Limit  Rating  Cards  Age  Education  Gender  Student  Married  \\\n",
      "0   14.891   3606     283      2   34         11       1        0        1   \n",
      "1  106.025   6645     483      3   82         15       0        1        1   \n",
      "2  104.593   7075     514      4   71         11       1        0        0   \n",
      "3  148.924   9504     681      3   36         11       0        0        0   \n",
      "4   55.882   4897     357      2   68         16       1        0        1   \n",
      "\n",
      "   Balance  \n",
      "0      333  \n",
      "1      903  \n",
      "2      580  \n",
      "3      964  \n",
      "4      331  \n",
      "     Income  Limit  Rating  Cards  Age  Education  Gender  Student  Married  \\\n",
      "395  12.096   4100     307      3   32         13       1        0        1   \n",
      "396  13.364   3838     296      5   65         17       1        0        0   \n",
      "397  57.872   4171     321      5   67         12       0        0        1   \n",
      "398  37.728   2525     192      1   44         13       1        0        1   \n",
      "399  18.701   5524     415      5   64          7       0        0        0   \n",
      "\n",
      "     Balance  \n",
      "395      560  \n",
      "396      480  \n",
      "397      138  \n",
      "398        0  \n",
      "399      966  \n",
      "400 10\n"
     ]
    }
   ],
   "source": [
    "# Read csv file into dataframe\n",
    "# setting working directory\n",
    "directory = \"/media/ijmg/SSD_FOUR_TB/ACADEMICS_101/a_Florida Atlantic University/MSAI/CAP 5625 - AI Comp Foundations/ASSIGN_1/\"\n",
    "os.chdir(directory)\n",
    "# import data file\n",
    "credit_df = pd.read_csv('Credit_N400_p9_numeric.csv')\n",
    "# verify transfer of csv file contents into dataframe\n",
    "print(\"ORIGINAL CSV DATA:\\n\")\n",
    "print(credit_df.head(5))\n",
    "print(credit_df.tail(5))\n",
    "# find dimensions of dataframe\n",
    "(m,n) = np.shape(credit_df)\n",
    "print(m,n)"
   ]
  },
  {
   "cell_type": "code",
   "execution_count": 45,
   "id": "3b1d8f0c",
   "metadata": {},
   "outputs": [
    {
     "name": "stdout",
     "output_type": "stream",
     "text": [
      "Gender categories: [1 0]\n",
      "Student categories: [0 1]\n",
      "Married categories: [1 0]\n"
     ]
    }
   ],
   "source": [
    "# identify contents of character categorical variables to be replaced with numerical categorical variables\n",
    "print (\"Gender categories:\", credit_df['Gender'].unique())\n",
    "print (\"Student categories:\", credit_df['Student'].unique())\n",
    "print (\"Married categories:\", credit_df['Married'].unique())\n",
    "\n",
    "# replace 'Gender' string variables with numeric variables\n",
    "# 'Male' => 1, 'Female' => 0 \n",
    "for i in range(0,len(credit_df)):\n",
    "    if   (credit_df.loc[i, 'Gender'] == 'Male'):\n",
    "        credit_df.loc[i, 'Gender'] = 1\n",
    "    elif (credit_df.loc[i, 'Gender'] == 'Female'):\n",
    "        credit_df.loc[i, 'Gender'] = 0\n",
    "        \n",
    "# replace 'Student' string variables with numeric variables\n",
    "# 'Yes' => 1, 'No' => 0 \n",
    "for i in range(0,len(credit_df)):\n",
    "    if   (credit_df.loc[i, 'Student'] == 'Yes'):\n",
    "        credit_df.loc[i, 'Student'] = 1\n",
    "    elif (credit_df.loc[i, 'Student'] == 'No'):\n",
    "        credit_df.loc[i, 'Student'] = 0\n",
    "        \n",
    "# replace 'Married' string variables with numeric variables\n",
    "# 'Yes' => 1, 'No' => 0 \n",
    "for i in range(0,len(credit_df)):\n",
    "    if   (credit_df.loc[i, 'Married'] == 'Yes'):\n",
    "        credit_df.loc[i, 'Married'] = 1\n",
    "    elif (credit_df.loc[i, 'Married'] == 'No'):\n",
    "        credit_df.loc[i, 'Married'] = 0"
   ]
  },
  {
   "cell_type": "code",
   "execution_count": 46,
   "id": "462d8cf6",
   "metadata": {},
   "outputs": [
    {
     "name": "stdout",
     "output_type": "stream",
     "text": [
      "NUMERIC CSV DATA:\n",
      "\n",
      "    Income  Limit  Rating  Cards  Age  Education  Gender  Student  Married  \\\n",
      "0   14.891   3606     283      2   34         11       1        0        1   \n",
      "1  106.025   6645     483      3   82         15       0        1        1   \n",
      "2  104.593   7075     514      4   71         11       1        0        0   \n",
      "3  148.924   9504     681      3   36         11       0        0        0   \n",
      "4   55.882   4897     357      2   68         16       1        0        1   \n",
      "\n",
      "   Balance  \n",
      "0      333  \n",
      "1      903  \n",
      "2      580  \n",
      "3      964  \n",
      "4      331  \n",
      "     Income  Limit  Rating  Cards  Age  Education  Gender  Student  Married  \\\n",
      "395  12.096   4100     307      3   32         13       1        0        1   \n",
      "396  13.364   3838     296      5   65         17       1        0        0   \n",
      "397  57.872   4171     321      5   67         12       0        0        1   \n",
      "398  37.728   2525     192      1   44         13       1        0        1   \n",
      "399  18.701   5524     415      5   64          7       0        0        0   \n",
      "\n",
      "     Balance  \n",
      "395      560  \n",
      "396      480  \n",
      "397      138  \n",
      "398        0  \n",
      "399      966  \n",
      "400 10\n"
     ]
    }
   ],
   "source": [
    "# show new numeric dataframe\n",
    "print(\"NUMERIC CSV DATA:\\n\")\n",
    "print(credit_df.head(5))\n",
    "print(credit_df.tail(5))\n",
    "# find dimensions of dataframe\n",
    "(m,n) = np.shape(credit_df)\n",
    "print(m,n)"
   ]
  },
  {
   "cell_type": "code",
   "execution_count": 47,
   "id": "0ab2b31b",
   "metadata": {},
   "outputs": [],
   "source": [
    "# create empty data frame to hold centered and normalized data\n",
    "norm_credit_df = pd.DataFrame(columns=[])\n",
    "# create function to center and normalize predictor matrix variables\n",
    "def function_center_norm (array):\n",
    "  normed_array = ( array - np.mean(array) )/ np.std (array)\n",
    "  return normed_array\n",
    "# center and normalize data then add to data frame with column name\n",
    "for x in range(n-1):\n",
    "    array_pre_norm = np.array( credit_df.iloc[:,x] )\n",
    "    array_post_norm = function_center_norm (array_pre_norm)\n",
    "    if x==0:\n",
    "        norm_credit_df['Income'] = array_post_norm.tolist()\n",
    "    elif x==1:\n",
    "        norm_credit_df['Limit'] = array_post_norm.tolist()\n",
    "    elif x==2:\n",
    "        norm_credit_df['Rating'] = array_post_norm.tolist()\n",
    "    elif x==3:\n",
    "        norm_credit_df['Cards'] = array_post_norm.tolist()\n",
    "    elif x==4:\n",
    "        norm_credit_df['Age'] = array_post_norm.tolist()\n",
    "    elif x==5:\n",
    "        norm_credit_df['Education'] = array_post_norm.tolist()\n",
    "    elif x==6:\n",
    "        norm_credit_df['Gender'] = array_post_norm.tolist()\n",
    "    elif x==7:\n",
    "        norm_credit_df['Student'] = array_post_norm.tolist()\n",
    "    elif x==8:\n",
    "        norm_credit_df['Married'] = array_post_norm.tolist()\n",
    "# isolate centered, normalized feature matrix X from dataframe\n",
    "feature_matrix_X = norm_credit_df.to_numpy()"
   ]
  },
  {
   "cell_type": "code",
   "execution_count": 48,
   "id": "a5113453",
   "metadata": {},
   "outputs": [
    {
     "name": "stdout",
     "output_type": "stream",
     "text": [
      "\n",
      "CENTERED/NORMALIZED FEATURE MATRIX & CENTERED RESPONSE VECTOR:\n",
      "\n",
      "     Income     Limit    Rating     Cards       Age  Education    Gender  \\\n",
      "0 -0.861583 -0.489999 -0.465539 -0.699130 -1.257674  -0.784930  1.035635   \n",
      "1  1.727437  0.828261  0.828703  0.031032  1.528451   0.496588 -0.965592   \n",
      "2  1.686756  1.014787  1.029311  0.761194  0.889964  -0.784930  1.035635   \n",
      "3  2.946152  2.068440  2.110003  0.031032 -1.141586  -0.784930 -0.965592   \n",
      "4  0.302928  0.070012  0.013331 -0.699130  0.715831   0.816968  1.035635   \n",
      "\n",
      "    Student   Married  Balance  \n",
      "0 -0.333333  0.795395 -187.015  \n",
      "1  3.000000  0.795395  382.985  \n",
      "2 -0.333333 -1.257237   59.985  \n",
      "3 -0.333333 -1.257237  443.985  \n",
      "4 -0.333333  0.795395 -189.015  \n",
      "       Income     Limit    Rating     Cards       Age  Education    Gender  \\\n",
      "395 -0.940986 -0.275711 -0.310230  0.031032 -1.373763  -0.144171  1.035635   \n",
      "396 -0.904963 -0.389362 -0.381413  1.491355  0.541698   1.137347  1.035635   \n",
      "397  0.359462 -0.244913 -0.219633  1.491355  0.657787  -0.464550 -0.965592   \n",
      "398 -0.212808 -0.958916 -1.054419 -1.429291 -0.677231  -0.144171  1.035635   \n",
      "399 -0.753345  0.341993  0.388661  1.491355  0.483654  -2.066448 -0.965592   \n",
      "\n",
      "      Student   Married  Balance  \n",
      "395 -0.333333  0.795395   39.985  \n",
      "396 -0.333333 -1.257237  -40.015  \n",
      "397 -0.333333  0.795395 -382.015  \n",
      "398 -0.333333  0.795395 -520.015  \n",
      "399 -0.333333 -1.257237  445.985  \n"
     ]
    }
   ],
   "source": [
    "# create function to center response vector\n",
    "def function_center (array):\n",
    "    centered_array = ( array - np.mean(array) )\n",
    "    return centered_array\n",
    "# center response vector and add to centered and normalized dataframe\n",
    "array_pre_center = np.array( credit_df.iloc[:,n-1] )\n",
    "array_post_center = function_center (array_pre_center)\n",
    "norm_credit_df['Balance'] = array_post_center.tolist()\n",
    "# isolate centered response vector Y from dataframe\n",
    "response_vector_Y = norm_credit_df['Balance'].to_numpy()\n",
    "# verify new dataframe with centered and normalized data\n",
    "# verify transfer of csv file contents into dataframe\n",
    "print(\"\\nCENTERED/NORMALIZED FEATURE MATRIX & CENTERED RESPONSE VECTOR:\\n\")\n",
    "print(norm_credit_df.head(5))\n",
    "print(norm_credit_df.tail(5))"
   ]
  },
  {
   "cell_type": "code",
   "execution_count": 49,
   "id": "ae60626f",
   "metadata": {},
   "outputs": [
    {
     "name": "stdout",
     "output_type": "stream",
     "text": [
      "\n",
      "ALPHA: 1e-05\n",
      "LAMBDA: 10000\n",
      "\n",
      "INITIAL BETAS VECTOR:\n",
      "\n",
      "[0.801, -0.899, 0.301, 0.501, 0.801, -0.999, -0.399, 0.401, 0.501]\n",
      "\n",
      "CONVERGENCE OF BETAS VECTOR:\n",
      "\n",
      "[ 2.33996816  2.44492408  3.41170755  0.71396096  0.64071969 -0.82097092\n",
      " -0.3948054   1.26992621  0.3769633 ]\n",
      "[ 7.30675542 14.44169723 14.4740176   1.50156964 -0.12798262 -0.11412644\n",
      " -0.36379165  4.57395306 -0.13420054]\n",
      "[ 7.30675542 14.44169723 14.4740176   1.50156964 -0.12798262 -0.11412644\n",
      " -0.36379165  4.57395306 -0.13420054]\n",
      "[ 7.30675542 14.44169723 14.4740176   1.50156964 -0.12798262 -0.11412644\n",
      " -0.36379165  4.57395306 -0.13420054]\n",
      "[ 7.30675542 14.44169723 14.4740176   1.50156964 -0.12798262 -0.11412644\n",
      " -0.36379165  4.57395306 -0.13420054]\n",
      "\n",
      "FINAL CONVERGED BETAS VECTOR:\n",
      "\n",
      "[ 7.30675542 14.44169723 14.4740176   1.50156964 -0.12798262 -0.11412644\n",
      " -0.36379165  4.57395306 -0.13420054]\n"
     ]
    }
   ],
   "source": [
    "#######################  DELIVERABLE 1 ##########################################################\n",
    "# A penalized (regularized) least squares fit of a linear model using ridge regression, with\n",
    "#     the model parameters obtained by batch gradient descent. \n",
    "\n",
    "# CONCEPT: Ridge Regression is Ordinary Least Squares modified to also minimize \n",
    "#          the squared absolute sum of the coefficients\n",
    "\n",
    "# perform a penalized (regularized) least squares fit of a linear model using ridge regression, with\n",
    "# the model parameters obtained by batch gradient descent.\n",
    "# define alpha (α) and lambda (λ)\n",
    "# define alpha and lambda\n",
    "alpha = pow (10, -5)\n",
    "print(\"\\nALPHA:\", alpha)\n",
    "lamb_da = pow (10, 4)\n",
    "print(\"LAMBDA:\", lamb_da)\n",
    "\n",
    "# create betas array (β) \n",
    "betas = []\n",
    "# fill betas array with random numbers\n",
    "for i in range(9):\n",
    "    betas.append( random.randrange(-10, 10, 1)/10 + 0.001 )\n",
    "# check contents of betas array\n",
    "print(\"\\nINITIAL BETAS VECTOR:\\n\")\n",
    "print( betas)\n",
    "\n",
    "print(\"\\nCONVERGENCE OF BETAS VECTOR:\\n\")\n",
    "# converge betas vector over 100,000 rounds using \n",
    "# formula β := β − 2α[λβ − trans(X)* (y − Xβ)]\n",
    "# and print updated betas vector every 20,000 rounds\n",
    "\n",
    "for i in range (pow (10, 5)):\n",
    "  A = np.matmul ( feature_matrix_X.transpose(), ( np.array(response_vector_Y) - np.matmul(np.array(feature_matrix_X), np.array(betas)) ) )\n",
    "  betas = np.array(betas) - 2*alpha* ( lamb_da*np.array(betas) - np.array(A) )\n",
    "  if i%20000==0:\n",
    "    print (betas)\n",
    "     \n",
    "print(\"\\nFINAL CONVERGED BETAS VECTOR:\\n\")\n",
    "print (betas)"
   ]
  },
  {
   "cell_type": "code",
   "execution_count": 50,
   "id": "3e092312",
   "metadata": {},
   "outputs": [
    {
     "name": "stdout",
     "output_type": "stream",
     "text": [
      "\n",
      "DELIVERABLE # 1:\n",
      "\n",
      "  Lambdas      Income       Limit      Rating      Cards        Age  \\\n",
      "0    0.01 -274.653494  419.602125  195.891110  23.446334 -10.965025   \n",
      "1     0.1 -274.308114  428.960380  186.174099  23.870508 -10.977790   \n",
      "2       1 -271.228044  370.933188  241.193005  21.552987 -11.269198   \n",
      "3      10 -242.108334  302.250287  280.525289  20.274797 -13.321292   \n",
      "4     100  -94.639427  211.365448  209.546148  22.364962 -19.175688   \n",
      "5    1000   22.933101   84.077705   84.217036  10.265650  -5.693172   \n",
      "6   10000    7.306755   14.441697   14.474018   1.501570  -0.127983   \n",
      "\n",
      "   Education    Gender     Student   Married  \n",
      "0  -3.347070  5.200975  127.783302 -3.595376  \n",
      "1  -3.392064  5.190094  127.802706 -3.534276  \n",
      "2  -3.052598  5.093992  127.086744 -3.965836  \n",
      "3  -2.361228  4.185772  123.168277 -4.711108  \n",
      "4  -0.461881 -0.219414   97.667029 -5.732029  \n",
      "5  -0.099719 -1.993300   34.002375 -1.959075  \n",
      "6  -0.114126 -0.363792    4.573953 -0.134201  \n"
     ]
    }
   ],
   "source": [
    "# print Deliverable dataframe\n",
    "print(\"\\nDELIVERABLE # 1:\\n\")\n",
    "\n",
    "# create function to find betas vectors for range of lambda values\n",
    "n = 0\n",
    "def function_betas_from_lambdas ( alpha, betas, the_lambdas, feature_matrix_X, response_vector_Y ):\n",
    "  # define an array to hold all grouped betas vectors\n",
    "  betas_group = []  \n",
    "  for n in range(len(the_lambdas)):\n",
    "    lamb_da = the_lambdas[n]\n",
    "    for i in range (pow (10, 5)):\n",
    "      A = np.matmul ( feature_matrix_X.transpose(), ( np.array(response_vector_Y) \n",
    "                                                     - np.matmul(np.array(feature_matrix_X), np.array(betas)) ) )\n",
    "      betas = np.array(betas) - 2*alpha* ( lamb_da*np.array(betas) - np.array(A) )\n",
    "    betas_group = np.concatenate((betas_group, betas), axis=0)\n",
    "  betas_group = np.reshape(betas_group, (7, 9))\n",
    "  return betas_group\n",
    "\n",
    "# define range of lambdas to test for generation of bates vector\n",
    "the_lambdas = [0.01, 0.1, 1, 10, 100, 1000, 10000 ]\n",
    "# call function to find betas vectors for range of lambda values\n",
    "raw_betas_array = function_betas_from_lambdas ( alpha, betas, the_lambdas, feature_matrix_X, response_vector_Y)\n",
    "\n",
    "# convert array to dataframe\n",
    "lambda_plot_df = pd.DataFrame(raw_betas_array)\n",
    "# define dataframe axis labels\n",
    "index=['0.01', '0.1', '1', '10', '100', '1000', '10000']\n",
    "columns=['Income', 'Limit', 'Rating', 'Cards', 'Age', 'Education', 'Gender', 'Student', 'Married']\n",
    "# add dataframe column labels\n",
    "lambda_plot_df.columns = columns\n",
    "# add lambdas column to dataframe\n",
    "lambda_plot_df.insert(0, \"Lambdas\", index, True)\n",
    "# print final dataframe\n",
    "print(lambda_plot_df)"
   ]
  },
  {
   "cell_type": "code",
   "execution_count": 51,
   "id": "2970fd43",
   "metadata": {},
   "outputs": [
    {
     "data": {
      "text/plain": [
       "<AxesSubplot: xlabel='Lambdas'>"
      ]
     },
     "execution_count": 51,
     "metadata": {},
     "output_type": "execute_result"
    },
    {
     "data": {
      "text/plain": [
       "Text(0.5, 0, 'Lambdas')"
      ]
     },
     "execution_count": 51,
     "metadata": {},
     "output_type": "execute_result"
    },
    {
     "data": {
      "text/plain": [
       "Text(0, 0.5, 'Standardized Coefficients')"
      ]
     },
     "execution_count": 51,
     "metadata": {},
     "output_type": "execute_result"
    },
    {
     "data": {
      "image/png": "[encoded data removed]",
      "text/plain": [
       "<Figure size 600x600 with 1 Axes>"
      ]
     },
     "metadata": {},
     "output_type": "display_data"
    }
   ],
   "source": [
    "# plot dataframe columns as lines\n",
    "lambda_plot_df.plot(x=\"Lambdas\",  y=['Income', 'Limit', 'Rating', 'Cards', 'Age', 'Education', 'Gender', 'Student', 'Married'],\n",
    "        kind=\"line\", figsize=(6, 6))\n",
    " \n",
    "# display plot\n",
    "plt.xlabel(\"Lambdas\")\n",
    "plt.ylabel(\"Standardized Coefficients\")\n",
    "plt.show()"
   ]
  },
  {
   "cell_type": "code",
   "execution_count": 52,
   "id": "fcc6a6db",
   "metadata": {},
   "outputs": [],
   "source": [
    "#######################  DELIVERABLE 2 ##########################################################\n",
    "# Find best tuning parameter (λ) using five-fold cross validation, CV (5).\n",
    "\n",
    "# function to find betas then MSE  for each pairing of training set - validation set \n",
    "def function_betas_then_mse(alpha, lamb_da, training_set, validation_set):\n",
    "  betas = []\n",
    "  for i in range(9):\t\n",
    "    betas.append( random.randrange(-10, 10, 1)/10 + 0.001 )\n",
    "   # β := β − 2α[λβ − trans(X)* (y − Xβ)]\n",
    "  for i in range (pow (10, 5)):\n",
    "    A = np.matmul ( training_set[:,0:9].transpose(), ( np.array(training_set[:,9]) - np.matmul(np.array(training_set[:,0:9]), np.array(betas)) ) )\n",
    "    betas = np.array(betas) - 2*alpha* ( lamb_da*np.array(betas) - np.array(A) )\n",
    "  sum =0\n",
    "  for x in range(0,len(validation_set)):\n",
    "    predicted_val = np.matmul(validation_set[x,0:9], betas)\n",
    "    observed_val = validation_set[x,9]\n",
    "    sum = sum + (predicted_val - observed_val)**2\n",
    "  MSE = sum/(len(validation_set))\n",
    "  return MSE"
   ]
  },
  {
   "cell_type": "code",
   "execution_count": 53,
   "id": "d00c95ae",
   "metadata": {},
   "outputs": [],
   "source": [
    "# function to combine folds into training data set \n",
    "def function_combine_folds(fold2, fold3, fold4, fold5):\n",
    "  #   print(\"combining folds\")\n",
    "  # fold1 is holdout fold\n",
    "  # each fold will have a turn as fold1, the holdout fold\n",
    "  # create empty array to hold combined folds\n",
    "  fold_group = [0]*10\n",
    "  # combine fold2-fold5 into single array\n",
    "  fold_group = np.add(fold_group, fold2)\n",
    "  fold_group = np.concatenate((fold_group, fold3), axis=0)\n",
    "  fold_group = np.concatenate((fold_group, fold4), axis=0)\n",
    "  fold_group = np.concatenate((fold_group, fold5), axis=0) \n",
    "  # reshape fold into 320 rows 10 columns \n",
    "  fold_group = np.reshape(fold_group, (320, 10))\n",
    "  return fold_group"
   ]
  },
  {
   "cell_type": "code",
   "execution_count": 54,
   "id": "0a9cd1ee",
   "metadata": {},
   "outputs": [],
   "source": [
    "# function to: 1.) center and normalize feature matrix of training set. \n",
    "#              2.) center response vector of training set.\n",
    "#              3.) return 1.) and 2.) joined as \"holder\" dataframe.\n",
    "def function_center_norm_training_set (matrix):\n",
    "  array1 = []\n",
    "  array2 = []\n",
    "  holder = np.zeros((320, 10))\n",
    "  for x in range(0,9):\n",
    "    array1 = (matrix[:,x] - np.mean(matrix[:,x]))/np.std (matrix[:,x])\n",
    "    holder[:,x] = array1\n",
    "  array2 = (matrix[:,9] - np.mean(matrix[:,9]))\n",
    "  holder[:,9] = array2\n",
    "  return holder"
   ]
  },
  {
   "cell_type": "code",
   "execution_count": 55,
   "id": "531a27b9",
   "metadata": {},
   "outputs": [],
   "source": [
    "# function to: 1.) center and normalize feature matrix of validation set \n",
    "#              2.) center response vector of validation set\n",
    "#              3.) return 1.) and 2.) joined as \"vec_holder\" dataframe.\n",
    "def function_center_norm_validation_set (matrix, vector):\n",
    "  vec_holder = np.zeros((80, 10))\n",
    "  for x in range(0,9):\n",
    "    vec_holder[:,x] = (vector[:,x] - np.mean(matrix[:,x]))/np.std (matrix[:,x])\n",
    "  vec_holder[:,9] = (vector[:,9] - np.mean(matrix[:,9]))\n",
    "  return vec_holder"
   ]
  },
  {
   "cell_type": "code",
   "execution_count": 56,
   "id": "b4a21622",
   "metadata": {},
   "outputs": [
    {
     "name": "stdout",
     "output_type": "stream",
     "text": [
      "\n",
      "ALPHA: 1e-05\n"
     ]
    }
   ],
   "source": [
    "# define alpha and lambdas\n",
    "alpha = pow (10, -5)\n",
    "print(\"\\nALPHA:\", alpha)\n",
    "lambdas_vector =[pow (10, -2), pow (10, -1), pow (10, 0),pow (10, 1), pow (10, 2), pow (10, 3), pow (10, 4)]"
   ]
  },
  {
   "cell_type": "code",
   "execution_count": 57,
   "id": "822e3ef4",
   "metadata": {},
   "outputs": [],
   "source": [
    "# divide dataframe into 5 equal folds\n",
    "# create arrays to hold each of 5 folds\n",
    "fold_one= np.zeros((80, 10))\n",
    "fold_two= np.zeros((80, 10))\n",
    "fold_three= np.zeros((80, 10))\n",
    "fold_four= np.zeros((80, 10))\n",
    "fold_five= np.zeros((80, 10))\n",
    "# split credit_df dataframe into five equal folds. \n",
    "n=1\n",
    "j=k=r=s=t=0\n",
    "for x in range( len(credit_df)  ):\n",
    "  if n==1:      \n",
    "    fold_one [j,:] = np.array( credit_df.loc[x,:] )\n",
    "    j = j+1\n",
    "    n=n+1\n",
    "  elif n==2:\n",
    "    fold_two [k,:] = np.array( credit_df.loc[x,:] )\n",
    "    k = k+1\n",
    "    n=n+1\n",
    "  elif n==3:\n",
    "    fold_three [r,:] = np.array( credit_df.loc[x,:] )\n",
    "    r = r+1\n",
    "    n=n+1\n",
    "  elif n==4:\n",
    "    fold_four [s,:] = np.array( credit_df.loc[x,:] )\n",
    "    s = s+1\n",
    "    n=n+1\n",
    "  elif n==5:\n",
    "    fold_five [t,:] = np.array( credit_df.loc[x,:] )\n",
    "    t = t+1\n",
    "    n=n+1\n",
    "    if n==6:\n",
    "      n=1"
   ]
  },
  {
   "cell_type": "code",
   "execution_count": 58,
   "id": "c231e19d",
   "metadata": {},
   "outputs": [],
   "source": [
    "# five rounds of fold grouping with alternating folds left out:\n",
    "# four of five folds grouped into training set\n",
    "# last of five folds used as validation set\n",
    "\n",
    "training_set1 = function_combine_folds(fold_two, fold_three, fold_four, fold_five )\n",
    "training_set2 = function_combine_folds(fold_one, fold_three, fold_four, fold_five )\n",
    "training_set3 = function_combine_folds(fold_one, fold_two, fold_four, fold_five )\n",
    "training_set4 = function_combine_folds(fold_one, fold_two, fold_three, fold_five )\n",
    "training_set5 = function_combine_folds(fold_one, fold_two, fold_three, fold_four )\n",
    "\n",
    "validation_set1 = fold_one\n",
    "validation_set2 = fold_two\n",
    "validation_set3 = fold_three\n",
    "validation_set4 = fold_four\n",
    "validation_set5 = fold_five"
   ]
  },
  {
   "cell_type": "code",
   "execution_count": 59,
   "id": "0908fa7c",
   "metadata": {},
   "outputs": [],
   "source": [
    "# for each fold group (aka training set):\n",
    "# send fold feature matrix for centering and norming\n",
    "# send fold response vector for just centering\n",
    "\n",
    "training_set1_cent_norm = function_center_norm_training_set(training_set1)\n",
    "training_set2_cent_norm = function_center_norm_training_set(training_set2)\n",
    "training_set3_cent_norm = function_center_norm_training_set(training_set3)\n",
    "training_set4_cent_norm = function_center_norm_training_set(training_set4)\n",
    "training_set5_cent_norm = function_center_norm_training_set(training_set5)"
   ]
  },
  {
   "cell_type": "code",
   "execution_count": 60,
   "id": "7bea6b69",
   "metadata": {},
   "outputs": [],
   "source": [
    "# for each validation set:\n",
    "# center and normalize feature matrix portion using corresponding training set\n",
    "# center response vector portion using corresponding training set  \n",
    "validation_set1_cent_norm = function_center_norm_validation_set(training_set1, validation_set1)\n",
    "validation_set2_cent_norm = function_center_norm_validation_set(training_set2, validation_set2)\n",
    "validation_set3_cent_norm = function_center_norm_validation_set(training_set3, validation_set3)\n",
    "validation_set4_cent_norm = function_center_norm_validation_set(training_set4, validation_set4)\n",
    "validation_set5_cent_norm = function_center_norm_validation_set(training_set5, validation_set5)"
   ]
  },
  {
   "cell_type": "code",
   "execution_count": 61,
   "id": "ecb758d4",
   "metadata": {},
   "outputs": [
    {
     "name": "stdout",
     "output_type": "stream",
     "text": [
      "\n",
      "ALPHA: 1e-05\n",
      "LAMBDA: 0.01\n",
      "MSE: 9927.58 \n",
      "\n",
      "\n",
      "ALPHA: 1e-05\n",
      "LAMBDA: 0.1\n",
      "MSE: 9928.92 \n",
      "\n",
      "\n",
      "ALPHA: 1e-05\n",
      "LAMBDA: 1\n",
      "MSE: 9957.05 \n",
      "\n",
      "\n",
      "ALPHA: 1e-05\n",
      "LAMBDA: 10\n",
      "MSE: 10730.25 \n",
      "\n",
      "\n",
      "ALPHA: 1e-05\n",
      "LAMBDA: 100\n",
      "MSE: 29921.39 \n",
      "\n",
      "\n",
      "ALPHA: 1e-05\n",
      "LAMBDA: 1000\n",
      "MSE: 106012.43 \n",
      "\n",
      "\n",
      "ALPHA: 1e-05\n",
      "LAMBDA: 10000\n",
      "MSE: 190320.31 \n",
      "\n",
      "LAMBDAS: [0.01, 0.1, 1, 10, 100, 1000, 10000]\n",
      "MSEs: [9927.58, 9928.92, 9957.05, 10730.25, 29921.39, 106012.43, 190320.31] \n",
      "\n"
     ]
    }
   ],
   "source": [
    "# output alpha, each lambda, and each associated MSE value\n",
    "mse_vector=[]\n",
    "for x in range(0,7):\n",
    "  mse_fold_values = []\n",
    "  print(\"\\nALPHA:\", alpha)\n",
    "  print(\"LAMBDA:\", lambdas_vector[x])\n",
    "  mse_1 = function_betas_then_mse(alpha, lambdas_vector[x], training_set1_cent_norm, validation_set1_cent_norm)\n",
    "  mse_fold_values.append(mse_1)\n",
    "  mse_2 = function_betas_then_mse(alpha, lambdas_vector[x], training_set2_cent_norm, validation_set2_cent_norm)\n",
    "  mse_fold_values.append(mse_2)\n",
    "  mse_3 = function_betas_then_mse(alpha, lambdas_vector[x], training_set3_cent_norm, validation_set3_cent_norm)\n",
    "  mse_fold_values.append(mse_3)\n",
    "  mse_4 = function_betas_then_mse(alpha, lambdas_vector[x], training_set4_cent_norm, validation_set4_cent_norm)\n",
    "  mse_fold_values.append(mse_4)\n",
    "  mse_5 = function_betas_then_mse(alpha, lambdas_vector[x], training_set5_cent_norm, validation_set5_cent_norm)\n",
    "  mse_fold_values.append(mse_5)\n",
    "  mean_mse_for_entire_fold = np.mean(mse_fold_values)\n",
    "  print (\"MSE:\",round(mean_mse_for_entire_fold,2), \"\\n\")\n",
    "  mse_vector.append(round(mean_mse_for_entire_fold,2))\n",
    "print(\"LAMBDAS:\",lambdas_vector)\n",
    "print(\"MSEs:\",mse_vector, \"\\n\")"
   ]
  },
  {
   "cell_type": "code",
   "execution_count": 62,
   "id": "ce8b8bfc",
   "metadata": {},
   "outputs": [
    {
     "data": {
      "text/plain": [
       "Text(0.5, 1.0, 'CV-5 MSE vs log Lambda')"
      ]
     },
     "execution_count": 62,
     "metadata": {},
     "output_type": "execute_result"
    },
    {
     "data": {
      "text/plain": [
       "Text(0.5, 0, 'log lambda')"
      ]
     },
     "execution_count": 62,
     "metadata": {},
     "output_type": "execute_result"
    },
    {
     "data": {
      "text/plain": [
       "Text(0, 0.5, 'CV-5 MSE')"
      ]
     },
     "execution_count": 62,
     "metadata": {},
     "output_type": "execute_result"
    },
    {
     "data": {
      "text/plain": [
       "[<matplotlib.lines.Line2D at 0x7fed34d0d060>]"
      ]
     },
     "execution_count": 62,
     "metadata": {},
     "output_type": "execute_result"
    },
    {
     "data": {
      "text/plain": [
       "<matplotlib.legend.Legend at 0x7fed34cc5b10>"
      ]
     },
     "execution_count": 62,
     "metadata": {},
     "output_type": "execute_result"
    },
    {
     "data": {
      "image/png": "[encoded data removed]",
      "text/plain": [
       "<Figure size 640x480 with 1 Axes>"
      ]
     },
     "metadata": {},
     "output_type": "display_data"
    }
   ],
   "source": [
    "# print MSE for each 5 fold cross validation against \n",
    "#     its corresponding lamda\n",
    "x = np.log10(lambdas_vector)\n",
    "y = mse_vector\n",
    "plt.title(\"CV-5 MSE vs log Lambda\")\n",
    "plt.xlabel(\"log lambda\")\n",
    "plt.ylabel(\"CV-5 MSE\")\n",
    "plt.plot(x, y, color = \"red\", marker = \"o\", label = \"5 fold CV MSE\")\n",
    "plt.legend()\n",
    "plt.show()"
   ]
  },
  {
   "cell_type": "code",
   "execution_count": 63,
   "id": "a688e5ed",
   "metadata": {},
   "outputs": [],
   "source": [
    "#######################  DELIVERABLE 3 ##########################################################\n",
    "# Indicate the value of λ that generated the smallest CV (5) error.\n",
    "\n",
    "# Based on the above output from DELIVERABLE 2, the lambda value of 0.01 generated the smallest\n",
    "#    mean squared error (MSE) "
   ]
  },
  {
   "cell_type": "code",
   "execution_count": 64,
   "id": "3470310e",
   "metadata": {},
   "outputs": [
    {
     "name": "stdout",
     "output_type": "stream",
     "text": [
      "\n",
      "ALPHA: 1e-05\n",
      "LAMBDA: 0.01\n",
      "\n",
      "INITIAL BETAS VECTOR:\n",
      "\n",
      "[-0.499, 0.101, 0.301, 0.001, 0.701, 0.601, 0.401, 0.201, -0.399]\n",
      "\n",
      "CONVERGENCE OF BETAS VECTOR:\n",
      "\n",
      "[ 1.20487258  3.26605967  3.47316222  0.31832063  0.7023128   0.56656309\n",
      "  0.31902645  1.15072525 -0.41628189]\n",
      "[-274.81603239  347.68472756  268.06984022   20.33608689  -11.04426695\n",
      "   -2.97241351    5.20652493  127.35079799   -4.09018767]\n",
      "[-274.75255098  375.77296118  239.87954007   21.55083267  -11.01331789\n",
      "   -3.11874044    5.20435747  127.51971789   -3.89693268]\n",
      "[-274.70767831  395.62749767  219.95285652   22.40949166  -10.99144115\n",
      "   -3.22217355    5.20282537  127.63912114   -3.76032786]\n",
      "[-274.67595947  409.66193729  205.86741879   23.01644604  -10.97597729\n",
      "   -3.2952866     5.20174239  127.72352289   -3.66376695]\n",
      "\n",
      "FINAL CONVERGED BETAS VECTOR:\n",
      "\n",
      "[-274.65353953  419.58195014  195.91135877   23.44546176  -10.96504691\n",
      "   -3.34696536    5.2009769   127.78318088   -3.59551445]\n"
     ]
    }
   ],
   "source": [
    "#######################  DELIVERABLE 4 ##########################################################\n",
    "# Given the optimal λ, retrain the model on the entire dataset of N = 400\n",
    "#     observations and provide the estimates of the p = 9 best-fit model parameters.\n",
    "\n",
    "# define alpha and lambda\n",
    "alpha = pow (10, -5)\n",
    "print(\"\\nALPHA:\", alpha)\n",
    "lamb_da = lambdas_vector[0]\n",
    "print(\"LAMBDA:\", lamb_da)\n",
    "\n",
    "# create betas array \n",
    "betas = []\n",
    "# fill betas array with random numbers\n",
    "for i in range(9):\t\n",
    "    betas.append( random.randrange(-10, 10, 1)/10 + 0.001 )\n",
    "# check contents of betas array\n",
    "print(\"\\nINITIAL BETAS VECTOR:\\n\")\n",
    "print( betas)\n",
    "\n",
    "print(\"\\nCONVERGENCE OF BETAS VECTOR:\\n\")\n",
    "#converge vector betas\n",
    "# β := β − 2α[λβ − trans(X)* (y − Xβ)]\n",
    "for i in range (pow (10, 5)):\n",
    "  A = np.matmul ( feature_matrix_X.transpose(), ( np.array(response_vector_Y) \n",
    "                                                - np.matmul(np.array(feature_matrix_X), np.array(betas)) ) )\n",
    "  betas = np.array(betas) - 2*alpha* ( lamb_da*np.array(betas) - np.array(A) )\n",
    "  if i%20000==0:\n",
    "    print (betas)\n",
    "     \n",
    "print(\"\\nFINAL CONVERGED BETAS VECTOR:\\n\")\n",
    "print (betas)"
   ]
  },
  {
   "cell_type": "code",
   "execution_count": null,
   "id": "2f07c2b0",
   "metadata": {},
   "outputs": [],
   "source": []
  }
 ],
 "metadata": {
  "kernelspec": {
   "display_name": "Python 3 (ipykernel)",
   "language": "python",
   "name": "python3"
  },
  "language_info": {
   "codemirror_mode": {
    "name": "ipython",
    "version": 3
   },
   "file_extension": ".py",
   "mimetype": "text/x-python",
   "name": "python",
   "nbconvert_exporter": "python",
   "pygments_lexer": "ipython3",
   "version": "3.10.9"
  }
 },
 "nbformat": 4,
 "nbformat_minor": 5
}
